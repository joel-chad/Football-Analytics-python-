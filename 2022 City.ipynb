{
 "cells": [
  {
   "cell_type": "code",
   "execution_count": 1,
   "metadata": {},
   "outputs": [],
   "source": [
    "import pandas as pd\n",
    "\n",
    "import matplotlib.pyplot as plt\n",
    "import matplotlib.ticker as mtick\n",
    "import matplotlib.patheffects as pe\n",
    "from adjustText import adjust_text"
   ]
  },
  {
   "cell_type": "code",
   "execution_count": 14,
   "metadata": {},
   "outputs": [
    {
     "data": {
      "text/html": [
       "<div>\n",
       "<style scoped>\n",
       "    .dataframe tbody tr th:only-of-type {\n",
       "        vertical-align: middle;\n",
       "    }\n",
       "\n",
       "    .dataframe tbody tr th {\n",
       "        vertical-align: top;\n",
       "    }\n",
       "\n",
       "    .dataframe thead th {\n",
       "        text-align: right;\n",
       "    }\n",
       "</style>\n",
       "<table border=\"1\" class=\"dataframe\">\n",
       "  <thead>\n",
       "    <tr style=\"text-align: right;\">\n",
       "      <th></th>\n",
       "      <th>Player</th>\n",
       "      <th>Pos</th>\n",
       "      <th>Age</th>\n",
       "      <th>Min_pct</th>\n",
       "    </tr>\n",
       "  </thead>\n",
       "  <tbody>\n",
       "    <tr>\n",
       "      <th>0</th>\n",
       "      <td>Ederson</td>\n",
       "      <td>GK</td>\n",
       "      <td>28-157</td>\n",
       "      <td>55.263158</td>\n",
       "    </tr>\n",
       "    <tr>\n",
       "      <th>1</th>\n",
       "      <td>João Cancelo</td>\n",
       "      <td>DF</td>\n",
       "      <td>27-239</td>\n",
       "      <td>55.000000</td>\n",
       "    </tr>\n",
       "    <tr>\n",
       "      <th>2</th>\n",
       "      <td>Bernardo Silva</td>\n",
       "      <td>MF,FW</td>\n",
       "      <td>27-164</td>\n",
       "      <td>52.368421</td>\n",
       "    </tr>\n",
       "    <tr>\n",
       "      <th>3</th>\n",
       "      <td>Rúben Dias</td>\n",
       "      <td>DF</td>\n",
       "      <td>24-252</td>\n",
       "      <td>49.210526</td>\n",
       "    </tr>\n",
       "    <tr>\n",
       "      <th>4</th>\n",
       "      <td>Rodri</td>\n",
       "      <td>MF</td>\n",
       "      <td>25-213</td>\n",
       "      <td>45.789474</td>\n",
       "    </tr>\n",
       "  </tbody>\n",
       "</table>\n",
       "</div>"
      ],
      "text/plain": [
       "           Player    Pos     Age    Min_pct\n",
       "0         Ederson     GK  28-157  55.263158\n",
       "1    João Cancelo     DF  27-239  55.000000\n",
       "2  Bernardo Silva  MF,FW  27-164  52.368421\n",
       "3      Rúben Dias     DF  24-252  49.210526\n",
       "4           Rodri     MF  25-213  45.789474"
      ]
     },
     "execution_count": 14,
     "metadata": {},
     "output_type": "execute_result"
    }
   ],
   "source": [
    "df = pd.read_html(\"https://fbref.com/en/squads/b8fd03ef/Manchester-City-Stats\", header=1)[0]\n",
    "df[\"Min_pct\"] = 100*df[\"90s\"]/38 ##number of matches in a league season\n",
    "df = df.dropna(subset=[\"Age\", \"Min_pct\"])\n",
    "df = df.loc[:len(df)-1, :]\n",
    "df[[\"Player\", \"Pos\", \"Age\", \"Min_pct\"]].head()"
   ]
  },
  {
   "cell_type": "code",
   "execution_count": 21,
   "metadata": {},
   "outputs": [
    {
     "data": {
      "text/plain": [
       "['28-157',\n",
       " '27-239',\n",
       " '27-164',\n",
       " '24-252',\n",
       " '25-213',\n",
       " '27-239',\n",
       " '24-293',\n",
       " '26-133',\n",
       " '31-238',\n",
       " '27-044',\n",
       " '31-089',\n",
       " '21-238',\n",
       " '30-207',\n",
       " '30-334',\n",
       " '26-337',\n",
       " '36-262',\n",
       " '25-037',\n",
       " '27-238',\n",
       " '21-326',\n",
       " '19-260',\n",
       " '26-294',\n",
       " '27-188',\n",
       " '19-095']"
      ]
     },
     "execution_count": 21,
     "metadata": {},
     "output_type": "execute_result"
    }
   ],
   "source": [
    "df2 = df[[\"Player\", \"Pos\", \"Min_pct\"]]\n",
    "age_list = df[\"Age\"].tolist()\n",
    "\n",
    "for i in range(len(age_list)):\n",
    "    str(age_list[i])\n",
    "    age_list[i].split(\"-\", 1)\n",
    "    \n",
    "age_list"
   ]
  },
  {
   "cell_type": "code",
   "execution_count": null,
   "metadata": {},
   "outputs": [],
   "source": []
  }
 ],
 "metadata": {
  "kernelspec": {
   "display_name": "Python 3",
   "language": "python",
   "name": "python3"
  },
  "language_info": {
   "codemirror_mode": {
    "name": "ipython",
    "version": 3
   },
   "file_extension": ".py",
   "mimetype": "text/x-python",
   "name": "python",
   "nbconvert_exporter": "python",
   "pygments_lexer": "ipython3",
   "version": "3.8.5"
  }
 },
 "nbformat": 4,
 "nbformat_minor": 4
}
