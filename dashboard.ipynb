{
 "cells": [
  {
   "cell_type": "code",
   "execution_count": 1,
   "metadata": {},
   "outputs": [],
   "source": [
    "import pandas as pd\n",
    "import numpy as np\n",
    "\n",
    "import seaborn as sns\n",
    "import matplotlib.pyplot as plt\n",
    "import matplotlib.gridspec as gridspec\n",
    "\n",
    "from functions import plot_heatmap"
   ]
  },
  {
   "cell_type": "code",
   "execution_count": 2,
   "metadata": {},
   "outputs": [],
   "source": [
    "x = np.random.randint(1,101,500)"
   ]
  },
  {
   "cell_type": "code",
   "execution_count": 3,
   "metadata": {},
   "outputs": [
    {
     "data": {
      "text/html": [
       "<div>\n",
       "<style scoped>\n",
       "    .dataframe tbody tr th:only-of-type {\n",
       "        vertical-align: middle;\n",
       "    }\n",
       "\n",
       "    .dataframe tbody tr th {\n",
       "        vertical-align: top;\n",
       "    }\n",
       "\n",
       "    .dataframe thead th {\n",
       "        text-align: right;\n",
       "    }\n",
       "</style>\n",
       "<table border=\"1\" class=\"dataframe\">\n",
       "  <thead>\n",
       "    <tr style=\"text-align: right;\">\n",
       "      <th></th>\n",
       "      <th>minute</th>\n",
       "      <th>second</th>\n",
       "      <th>teamId</th>\n",
       "      <th>x</th>\n",
       "      <th>y</th>\n",
       "      <th>period</th>\n",
       "      <th>type</th>\n",
       "      <th>outcome</th>\n",
       "      <th>playerId</th>\n",
       "      <th>endX</th>\n",
       "      <th>endY</th>\n",
       "    </tr>\n",
       "  </thead>\n",
       "  <tbody>\n",
       "    <tr>\n",
       "      <th>0</th>\n",
       "      <td>0</td>\n",
       "      <td>0.0</td>\n",
       "      <td>Manchester United</td>\n",
       "      <td>0.0</td>\n",
       "      <td>0.0</td>\n",
       "      <td>FirstHalf</td>\n",
       "      <td>Start</td>\n",
       "      <td>Successful</td>\n",
       "      <td>NaN</td>\n",
       "      <td>NaN</td>\n",
       "      <td>NaN</td>\n",
       "    </tr>\n",
       "    <tr>\n",
       "      <th>1</th>\n",
       "      <td>0</td>\n",
       "      <td>0.0</td>\n",
       "      <td>Villarreal</td>\n",
       "      <td>0.0</td>\n",
       "      <td>0.0</td>\n",
       "      <td>FirstHalf</td>\n",
       "      <td>Start</td>\n",
       "      <td>Successful</td>\n",
       "      <td>NaN</td>\n",
       "      <td>NaN</td>\n",
       "      <td>NaN</td>\n",
       "    </tr>\n",
       "    <tr>\n",
       "      <th>2</th>\n",
       "      <td>0</td>\n",
       "      <td>0.0</td>\n",
       "      <td>Manchester United</td>\n",
       "      <td>49.9</td>\n",
       "      <td>50.0</td>\n",
       "      <td>FirstHalf</td>\n",
       "      <td>Pass</td>\n",
       "      <td>Successful</td>\n",
       "      <td>18.0</td>\n",
       "      <td>31.5</td>\n",
       "      <td>59.6</td>\n",
       "    </tr>\n",
       "    <tr>\n",
       "      <th>3</th>\n",
       "      <td>0</td>\n",
       "      <td>3.0</td>\n",
       "      <td>Manchester United</td>\n",
       "      <td>32.2</td>\n",
       "      <td>58.1</td>\n",
       "      <td>FirstHalf</td>\n",
       "      <td>Pass</td>\n",
       "      <td>Unsuccessful</td>\n",
       "      <td>2.0</td>\n",
       "      <td>69.6</td>\n",
       "      <td>100.0</td>\n",
       "    </tr>\n",
       "    <tr>\n",
       "      <th>4</th>\n",
       "      <td>0</td>\n",
       "      <td>32.0</td>\n",
       "      <td>Villarreal</td>\n",
       "      <td>34.4</td>\n",
       "      <td>0.0</td>\n",
       "      <td>FirstHalf</td>\n",
       "      <td>Pass</td>\n",
       "      <td>Successful</td>\n",
       "      <td>8.0</td>\n",
       "      <td>36.5</td>\n",
       "      <td>9.5</td>\n",
       "    </tr>\n",
       "  </tbody>\n",
       "</table>\n",
       "</div>"
      ],
      "text/plain": [
       "   minute  second             teamId     x     y     period   type  \\\n",
       "0       0     0.0  Manchester United   0.0   0.0  FirstHalf  Start   \n",
       "1       0     0.0         Villarreal   0.0   0.0  FirstHalf  Start   \n",
       "2       0     0.0  Manchester United  49.9  50.0  FirstHalf   Pass   \n",
       "3       0     3.0  Manchester United  32.2  58.1  FirstHalf   Pass   \n",
       "4       0    32.0         Villarreal  34.4   0.0  FirstHalf   Pass   \n",
       "\n",
       "        outcome  playerId  endX   endY  \n",
       "0    Successful       NaN   NaN    NaN  \n",
       "1    Successful       NaN   NaN    NaN  \n",
       "2    Successful      18.0  31.5   59.6  \n",
       "3  Unsuccessful       2.0  69.6  100.0  \n",
       "4    Successful       8.0  36.5    9.5  "
      ]
     },
     "execution_count": 3,
     "metadata": {},
     "output_type": "execute_result"
    }
   ],
   "source": [
    "df = pd.read_csv('europaFinal.csv')\n",
    "df.head()"
   ]
  },
  {
   "cell_type": "code",
   "execution_count": 4,
   "metadata": {},
   "outputs": [
    {
     "data": {
      "text/plain": [
       "Text(0.5, 1.0, '[2,3]')"
      ]
     },
     "execution_count": 4,
     "metadata": {},
     "output_type": "execute_result"
    },
    {
     "data": {
      "image/png": "[encoded data removed]",
      "text/plain": [
       "<Figure size 720x720 with 10 Axes>"
      ]
     },
     "metadata": {
      "needs_background": "light"
     },
     "output_type": "display_data"
    }
   ],
   "source": [
    "fig = plt.figure(figsize=(10,10), constrained_layout=True)\n",
    "gs = fig.add_gridspec(nrows=3, ncols=4)\n",
    "\n",
    "ax1 = fig.add_subplot(gs[0,:2])\n",
    "ax1.set_title('[0,0]')\n",
    "boxplot = sns.boxplot(x=x, ax=ax1)\n",
    "\n",
    "ax3 = fig.add_subplot(gs[0,2])\n",
    "ax3.set_title('[0,2]')\n",
    "plot_heatmap(heat_df=df, teamId='Villarreal', p_type='Pass', ax=ax3)\n",
    "\n",
    "ax4 = fig.add_subplot(gs[0,3])\n",
    "ax4.set_title('[0,3]')\n",
    "plot_heatmap(heat_df=df, teamId='Manchester United', p_type='Pass', ax=ax4)\n",
    "\n",
    "ax5 = fig.add_subplot(gs[1:,0])\n",
    "ax5.set_title('[1,0]')\n",
    "\n",
    "ax6 = fig.add_subplot(gs[1,1])\n",
    "ax6.set_title('[1,1]')\n",
    "\n",
    "ax7 = fig.add_subplot(gs[1,2])\n",
    "ax7.set_title('[1,2]')\n",
    "\n",
    "ax8 = fig.add_subplot(gs[1,3])\n",
    "ax8.set_title('[1,3]')\n",
    "\n",
    "ax10 = fig.add_subplot(gs[2,1])\n",
    "ax10.set_title('[2,1]')\n",
    "\n",
    "ax11 = fig.add_subplot(gs[2,2])\n",
    "ax11.set_title('[2,2]')\n",
    "ax11.scatter(3,3)\n",
    "\n",
    "ax12 = fig.add_subplot(gs[2,3])\n",
    "ax12 .set_title('[2,3]')"
   ]
  },
  {
   "cell_type": "code",
   "execution_count": null,
   "metadata": {},
   "outputs": [],
   "source": []
  }
 ],
 "metadata": {
  "kernelspec": {
   "display_name": "Python 3",
   "language": "python",
   "name": "python3"
  },
  "language_info": {
   "codemirror_mode": {
    "name": "ipython",
    "version": 3
   },
   "file_extension": ".py",
   "mimetype": "text/x-python",
   "name": "python",
   "nbconvert_exporter": "python",
   "pygments_lexer": "ipython3",
   "version": "3.8.5"
  }
 },
 "nbformat": 4,
 "nbformat_minor": 4
}
